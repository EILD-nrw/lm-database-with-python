{
 "cells": [
  {
   "cell_type": "code",
   "execution_count": 2,
   "metadata": {},
   "outputs": [],
   "source": [
    "from IPython.display import HTML, Javascript, display\n",
    "\n",
    "#c= conn.cursor()\n",
    "#c.execute(\"INSERT INTO emp VALUES (10, 'May', 4100)\")\n",
    "#conn.commit()\n",
    "\n",
    "def check(conn):\n",
    "    c= conn.cursor()\n",
    "    c.execute('SELECT COUNT(*) FROM emp WHERE id=10')\n",
    "    result = c.fetchall();\n",
    "    cnt = result[0][0]\n",
    "    c.close()\n",
    "    if (cnt==1):\n",
    "      display(HTML('<b>:D Super! Der Datensatz ist vorhanden.</b>'))  \n",
    "    else:\n",
    "      display(HTML('<b>:( Sieht so aus als ob der Datensatz mit der ID:10 nicht vorhanden ist.</b>'))"
   ]
  },
  {
   "cell_type": "code",
   "execution_count": null,
   "metadata": {},
   "outputs": [],
   "source": []
  }
 ],
 "metadata": {
  "kernelspec": {
   "display_name": "Python 3",
   "language": "python",
   "name": "python3"
  },
  "language_info": {
   "codemirror_mode": {
    "name": "ipython",
    "version": 3
   },
   "file_extension": ".py",
   "mimetype": "text/x-python",
   "name": "python",
   "nbconvert_exporter": "python",
   "pygments_lexer": "ipython3",
   "version": "3.8.0"
  }
 },
 "nbformat": 4,
 "nbformat_minor": 2
}
